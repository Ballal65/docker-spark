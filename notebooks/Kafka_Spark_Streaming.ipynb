{
 "cells": [
  {
   "cell_type": "code",
   "execution_count": 2,
   "id": "21fb4902-a091-4db5-b641-b2c9e252c661",
   "metadata": {},
   "outputs": [
    {
     "name": "stdout",
     "output_type": "stream",
     "text": [
      "\u001b[33mWARNING: The directory '/home/sparkuser/.cache/pip' or its parent directory is not owned or is not writable by the current user. The cache has been disabled. Check the permissions and owner of that directory. If executing pip with sudo, you should use sudo's -H flag.\u001b[0m\u001b[33m\n",
      "Collecting confluent_kafka\n",
      "  Downloading confluent_kafka-2.8.2-cp38-cp38-manylinux_2_28_x86_64.whl.metadata (20 kB)\n",
      "Downloading confluent_kafka-2.8.2-cp38-cp38-manylinux_2_28_x86_64.whl (4.0 MB)\n",
      "\u001b[2K   \u001b[90m━━━━━━━━━━━━━━━━━━━━━━━━━━━━━━━━━━━━━━━━\u001b[0m \u001b[32m4.0/4.0 MB\u001b[0m \u001b[31m70.2 MB/s\u001b[0m eta \u001b[36m0:00:00\u001b[0m\n",
      "Installing collected packages: confluent_kafka\n",
      "Successfully installed confluent_kafka-2.8.2\n",
      "\u001b[33mWARNING: Running pip as the 'root' user can result in broken permissions and conflicting behaviour with the system package manager, possibly rendering your system unusable. It is recommended to use a virtual environment instead: https://pip.pypa.io/warnings/venv. Use the --root-user-action option if you know what you are doing and want to suppress this warning.\u001b[0m\u001b[33m\n",
      "Note: you may need to restart the kernel to use updated packages.\n"
     ]
    }
   ],
   "source": [
    "pip install confluent_kafka"
   ]
  },
  {
   "cell_type": "code",
   "execution_count": null,
   "id": "035e19b4-7c78-44f6-974c-ed9f8fdb6b3d",
   "metadata": {},
   "outputs": [],
   "source": [
    "import json\n",
    "from confluent_kafka import Consumer, KafkaError\n",
    "\n",
    "# Kafka consumer configuration\n",
    "consumer_config = {\n",
    "    'bootstrap.servers': 'kafka:9092',\n",
    "    'group.id': 'jupyter-consumer-group',\n",
    "    'auto.offset.reset': 'earliest'\n",
    "}\n",
    "\n",
    "# Create Kafka consumer\n",
    "consumer = Consumer(consumer_config)\n",
    "\n",
    "# Subscribe to the topic\n",
    "consumer.subscribe(['ui-event-log'])\n",
    "\n",
    "# Function to consume messages from Kafka\n",
    "def consume_messages(consumer, timeout=1.0):\n",
    "    while True:\n",
    "        msg = consumer.poll(timeout)\n",
    "        if msg is None:\n",
    "            continue\n",
    "        if msg.error():\n",
    "            if msg.error().code() == KafkaError._PARTITION_EOF:\n",
    "                print('End of partition reached {0}/{1}'\n",
    "                      .format(msg.topic(), msg.partition()))\n",
    "            elif msg.error():\n",
    "                raise KafkaException(msg.error())\n",
    "        else:\n",
    "            # Successful message\n",
    "            print('Received message: {}'.format(msg.value().decode('utf-8')))\n",
    "            # You can also parse the JSON message if needed\n",
    "            event_message = json.loads(msg.value().decode('utf-8'))\n",
    "            print(event_message)\n",
    "\n",
    "#Consume messages\n",
    "            \n",
    "# try:\n",
    "#     consume_messages(consumer)\n",
    "# except KeyboardInterrupt:\n",
    "#     pass\n",
    "# finally:\n",
    "#     # Close the consumer when done\n",
    "#     consumer.close()"
   ]
  },
  {
   "cell_type": "code",
   "execution_count": null,
   "id": "8717e443-2a7d-4369-89e1-becbaad3118b",
   "metadata": {},
   "outputs": [],
   "source": []
  },
  {
   "cell_type": "code",
   "execution_count": null,
   "id": "2934833d-5cc1-4be8-8cbb-c1a502174d8d",
   "metadata": {},
   "outputs": [],
   "source": []
  }
 ],
 "metadata": {
  "kernelspec": {
   "display_name": "Python 3 (ipykernel)",
   "language": "python",
   "name": "python3"
  },
  "language_info": {
   "codemirror_mode": {
    "name": "ipython",
    "version": 3
   },
   "file_extension": ".py",
   "mimetype": "text/x-python",
   "name": "python",
   "nbconvert_exporter": "python",
   "pygments_lexer": "ipython3",
   "version": "3.8.13"
  }
 },
 "nbformat": 4,
 "nbformat_minor": 5
}
