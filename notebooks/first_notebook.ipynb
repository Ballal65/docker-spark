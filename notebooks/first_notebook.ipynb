{
 "cells": [
  {
   "cell_type": "code",
   "execution_count": 2,
   "id": "cc5f9ab8-289e-4c77-8cf2-7fb516d78fe5",
   "metadata": {},
   "outputs": [],
   "source": [
    "import os"
   ]
  },
  {
   "cell_type": "code",
   "execution_count": 4,
   "id": "235ba4f9-423f-4414-8cab-f6a85d11c5de",
   "metadata": {},
   "outputs": [
    {
     "data": {
      "text/plain": [
       "[]"
      ]
     },
     "execution_count": 4,
     "metadata": {},
     "output_type": "execute_result"
    }
   ],
   "source": [
    "os.listdir('/opt/spark/extracted_data/')"
   ]
  },
  {
   "cell_type": "code",
   "execution_count": 6,
   "id": "cdae9d02-7dd8-4b88-adf4-a40f87f84227",
   "metadata": {},
   "outputs": [],
   "source": [
    "input_path = '/opt/spark/extracted_data/youtube_data/jre_data_2025_01_22.csv'"
   ]
  },
  {
   "cell_type": "code",
   "execution_count": 3,
   "id": "e15a96bb-eafe-4e44-bba8-e49584eab260",
   "metadata": {},
   "outputs": [],
   "source": [
    "from pyspark.sql import SparkSession"
   ]
  },
  {
   "cell_type": "code",
   "execution_count": 4,
   "id": "6ed35de9-06ee-47c2-9a0f-b83f23cad0ab",
   "metadata": {},
   "outputs": [],
   "source": [
    "output_path = '/opt/spark/transformed_data/youtube_data/jre_title_data_2025_01_22.csv'"
   ]
  },
  {
   "cell_type": "code",
   "execution_count": 156,
   "id": "fa55c0de-03cf-48d6-9f6f-f9f78bb5f834",
   "metadata": {},
   "outputs": [],
   "source": [
    "spark = SparkSession.builder \\\n",
    "    .appName(\"SimpleTransformation\") \\\n",
    "    .config(\"spark.executor.extraJavaOptions\", \"--add-opens java.base/java.nio=ALL-UNNAMED\") \\\n",
    "    .config(\"spark.driver.extraJavaOptions\", \"--add-opens java.base/java.nio=ALL-UNNAMED\") \\\n",
    "    .getOrCreate()"
   ]
  },
  {
   "cell_type": "code",
   "execution_count": 167,
   "id": "d716e699-9724-4933-aa7e-98f36346623e",
   "metadata": {
    "scrolled": true
   },
   "outputs": [],
   "source": [
    "df = spark.read.csv('/opt/spark/extracted_data/youtube_data/jre_2025-01-22.csv', header=True, inferSchema=True)"
   ]
  },
  {
   "cell_type": "code",
   "execution_count": 164,
   "id": "41702889-624b-4db4-84da-dc515ef3168a",
   "metadata": {},
   "outputs": [],
   "source": [
    "output_df = df.select(\"Title\")"
   ]
  },
  {
   "cell_type": "code",
   "execution_count": 171,
   "id": "c4330621-3ef7-4d49-9e90-bd7c4a2cf5e3",
   "metadata": {},
   "outputs": [],
   "source": [
    "pandas_df = output_df.toPandas()"
   ]
  },
  {
   "cell_type": "code",
   "execution_count": 175,
   "id": "908f39a7-100e-44f3-9794-4ed7eef37ada",
   "metadata": {},
   "outputs": [],
   "source": [
    "import shutil"
   ]
  },
  {
   "cell_type": "code",
   "execution_count": 178,
   "id": "dc41d5b8-ae94-4235-9f6f-b47fdf561085",
   "metadata": {},
   "outputs": [],
   "source": [
    "# Check if the directory exists and remove it\n",
    "if os.path.exists(output_path) and os.path.isdir(output_path):\n",
    "    shutil.rmtree(output_path)"
   ]
  },
  {
   "cell_type": "code",
   "execution_count": 180,
   "id": "d821306e-7a62-4dc0-b2c7-f8d14ddbd07c",
   "metadata": {},
   "outputs": [],
   "source": [
    "pandas_df.to_csv(output_path, index=False)"
   ]
  },
  {
   "cell_type": "code",
   "execution_count": null,
   "id": "ff43a992-dc3c-412e-af2b-3467bb3e367c",
   "metadata": {},
   "outputs": [],
   "source": []
  }
 ],
 "metadata": {
  "kernelspec": {
   "display_name": "Python 3 (ipykernel)",
   "language": "python",
   "name": "python3"
  },
  "language_info": {
   "codemirror_mode": {
    "name": "ipython",
    "version": 3
   },
   "file_extension": ".py",
   "mimetype": "text/x-python",
   "name": "python",
   "nbconvert_exporter": "python",
   "pygments_lexer": "ipython3",
   "version": "3.8.13"
  }
 },
 "nbformat": 4,
 "nbformat_minor": 5
}
