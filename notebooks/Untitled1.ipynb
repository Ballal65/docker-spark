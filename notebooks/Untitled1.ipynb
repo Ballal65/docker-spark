{
 "cells": [
  {
   "cell_type": "code",
   "execution_count": 1,
   "id": "5ceb6875-7fdb-4bcd-b519-39a9c73db65b",
   "metadata": {},
   "outputs": [
    {
     "name": "stdout",
     "output_type": "stream",
     "text": [
      "\u001b[33mWARNING: The directory '/home/sparkuser/.cache/pip' or its parent directory is not owned or is not writable by the current user. The cache has been disabled. Check the permissions and owner of that directory. If executing pip with sudo, you should use sudo's -H flag.\u001b[0m\u001b[33m\n",
      "Collecting paho.mqtt\n",
      "  Downloading paho_mqtt-2.1.0-py3-none-any.whl.metadata (23 kB)\n",
      "Downloading paho_mqtt-2.1.0-py3-none-any.whl (67 kB)\n",
      "Installing collected packages: paho.mqtt\n",
      "Successfully installed paho.mqtt-2.1.0\n",
      "\u001b[33mWARNING: Running pip as the 'root' user can result in broken permissions and conflicting behaviour with the system package manager, possibly rendering your system unusable. It is recommended to use a virtual environment instead: https://pip.pypa.io/warnings/venv. Use the --root-user-action option if you know what you are doing and want to suppress this warning.\u001b[0m\u001b[33m\n",
      "Note: you may need to restart the kernel to use updated packages.\n"
     ]
    }
   ],
   "source": [
    "pip install paho.mqtt"
   ]
  },
  {
   "cell_type": "code",
   "execution_count": 11,
   "id": "86b83569-a53a-4ddd-b6b2-ca2dd61be7e3",
   "metadata": {},
   "outputs": [],
   "source": [
    "import paho.mqtt.client as mqtt"
   ]
  },
  {
   "cell_type": "code",
   "execution_count": 12,
   "id": "0592b3e4-c4f2-431e-aeac-ae06d229920e",
   "metadata": {},
   "outputs": [],
   "source": [
    "#MQTT Configuration\n",
    "MQTT_BROKER_URL = 'iot.hyperfarms.in'\n",
    "MQTT_PORT = 1883\n",
    "MQTT_USERNAME = 'hyperfarms'\n",
    "MQTT_PASSWORD = 'vrthebest'"
   ]
  },
  {
   "cell_type": "code",
   "execution_count": 13,
   "id": "fa57a507-4cd0-4629-acc3-dfb02d6c48c1",
   "metadata": {},
   "outputs": [
    {
     "name": "stderr",
     "output_type": "stream",
     "text": [
      "/tmp/ipykernel_284/1887663505.py:1: DeprecationWarning: Callback API version 1 is deprecated, update to latest version\n",
      "  client = mqtt.Client()\n"
     ]
    }
   ],
   "source": [
    "client = mqtt.Client()"
   ]
  },
  {
   "cell_type": "code",
   "execution_count": null,
   "id": "5f083aaf-a75d-4ee7-a34e-72c59a54ed51",
   "metadata": {},
   "outputs": [],
   "source": []
  }
 ],
 "metadata": {
  "kernelspec": {
   "display_name": "Python 3 (ipykernel)",
   "language": "python",
   "name": "python3"
  },
  "language_info": {
   "codemirror_mode": {
    "name": "ipython",
    "version": 3
   },
   "file_extension": ".py",
   "mimetype": "text/x-python",
   "name": "python",
   "nbconvert_exporter": "python",
   "pygments_lexer": "ipython3",
   "version": "3.8.13"
  }
 },
 "nbformat": 4,
 "nbformat_minor": 5
}
